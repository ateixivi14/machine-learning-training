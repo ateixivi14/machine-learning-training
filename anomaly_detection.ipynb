{
 "cells": [
  {
   "cell_type": "markdown",
   "metadata": {
    "id": "ln1jg68Agv0m"
   },
   "source": [
    "# Caso Grupal: Detección de anomalías y técnicas de agrupamiento"
   ]
  },
  {
   "cell_type": "code",
   "execution_count": null,
   "metadata": {
    "colab": {
     "base_uri": "https://localhost:8080/"
    },
    "id": "lB9MSSn-WSUW",
    "outputId": "d1b4038b-6a54-40c5-a3b1-f0a2755c3071"
   },
   "outputs": [
    {
     "name": "stdout",
     "output_type": "stream",
     "text": [
      "Cloning into 'Lab1_AprendizajeAutomatico'...\n",
      "remote: Enumerating objects: 12, done.\u001b[K\n",
      "remote: Counting objects: 100% (12/12), done.\u001b[K\n",
      "remote: Compressing objects: 100% (11/11), done.\u001b[K\n",
      "remote: Total 12 (delta 2), reused 0 (delta 0), pack-reused 0\u001b[K\n",
      "Unpacking objects: 100% (12/12), done.\n"
     ]
    }
   ],
   "source": [
    "!rm -rf *\n",
    "!git clone https://github.com/MiguelJG/Lab1_AprendizajeAutomatico.git\n",
    "!mv /content//Lab1_AprendizajeAutomatico/creditcardcsvpresent.csv /content/\n",
    "!rm -rf /Lab1_AprendizajeAutomatico"
   ]
  },
  {
   "cell_type": "markdown",
   "metadata": {
    "id": "Ku04jd5fgqdu"
   },
   "source": [
    "## 1. Análisis descriptivo de los datos\n"
   ]
  },
  {
   "cell_type": "code",
   "execution_count": null,
   "metadata": {
    "id": "A7P7gxePYc-I"
   },
   "outputs": [],
   "source": [
    "import pandas as pd\n",
    "import numpy as np\n",
    "import matplotlib.pyplot as plt\n",
    "import seaborn as sns\n",
    "from sklearn import metrics\n",
    "import matplotlib.pyplot as plt\n",
    "from mpl_toolkits.mplot3d import Axes3D\n",
    "from sklearn import cluster, datasets\n",
    "from sklearn.preprocessing import StandardScaler \n",
    "from sklearn.model_selection import train_test_split\n",
    "from sklearn import cluster\n",
    "from sklearn.ensemble import IsolationForest\n",
    "from sklearn.metrics import roc_auc_score"
   ]
  },
  {
   "cell_type": "markdown",
   "metadata": {
    "id": "diw3GuCkhC0a"
   },
   "source": [
    "**Leemos los datos del dataset**"
   ]
  },
  {
   "cell_type": "code",
   "execution_count": null,
   "metadata": {
    "colab": {
     "base_uri": "https://localhost:8080/",
     "height": 249
    },
    "id": "ewGCADEBYc-O",
    "outputId": "4acc6cbb-5755-4616-e6b1-40eddfba3539"
   },
   "outputs": [
    {
     "data": {
      "text/html": [
       "<div>\n",
       "<style scoped>\n",
       "    .dataframe tbody tr th:only-of-type {\n",
       "        vertical-align: middle;\n",
       "    }\n",
       "\n",
       "    .dataframe tbody tr th {\n",
       "        vertical-align: top;\n",
       "    }\n",
       "\n",
       "    .dataframe thead th {\n",
       "        text-align: right;\n",
       "    }\n",
       "</style>\n",
       "<table border=\"1\" class=\"dataframe\">\n",
       "  <thead>\n",
       "    <tr style=\"text-align: right;\">\n",
       "      <th></th>\n",
       "      <th>Merchant_id</th>\n",
       "      <th>Transaction date</th>\n",
       "      <th>Average Amount/transaction/day</th>\n",
       "      <th>Transaction_amount</th>\n",
       "      <th>Is declined</th>\n",
       "      <th>Total Number of declines/day</th>\n",
       "      <th>isForeignTransaction</th>\n",
       "      <th>isHighRiskCountry</th>\n",
       "      <th>Daily_chargeback_avg_amt</th>\n",
       "      <th>6_month_avg_chbk_amt</th>\n",
       "      <th>6-month_chbk_freq</th>\n",
       "      <th>isFradulent</th>\n",
       "    </tr>\n",
       "  </thead>\n",
       "  <tbody>\n",
       "    <tr>\n",
       "      <th>0</th>\n",
       "      <td>3160040998</td>\n",
       "      <td>NaN</td>\n",
       "      <td>100.0</td>\n",
       "      <td>3000.0</td>\n",
       "      <td>N</td>\n",
       "      <td>5</td>\n",
       "      <td>Y</td>\n",
       "      <td>Y</td>\n",
       "      <td>0</td>\n",
       "      <td>0.0</td>\n",
       "      <td>0</td>\n",
       "      <td>Y</td>\n",
       "    </tr>\n",
       "    <tr>\n",
       "      <th>1</th>\n",
       "      <td>3160040998</td>\n",
       "      <td>NaN</td>\n",
       "      <td>100.0</td>\n",
       "      <td>4300.0</td>\n",
       "      <td>N</td>\n",
       "      <td>5</td>\n",
       "      <td>Y</td>\n",
       "      <td>Y</td>\n",
       "      <td>0</td>\n",
       "      <td>0.0</td>\n",
       "      <td>0</td>\n",
       "      <td>Y</td>\n",
       "    </tr>\n",
       "    <tr>\n",
       "      <th>2</th>\n",
       "      <td>3160041896</td>\n",
       "      <td>NaN</td>\n",
       "      <td>185.5</td>\n",
       "      <td>4823.0</td>\n",
       "      <td>Y</td>\n",
       "      <td>5</td>\n",
       "      <td>N</td>\n",
       "      <td>N</td>\n",
       "      <td>0</td>\n",
       "      <td>0.0</td>\n",
       "      <td>0</td>\n",
       "      <td>Y</td>\n",
       "    </tr>\n",
       "    <tr>\n",
       "      <th>3</th>\n",
       "      <td>3160141996</td>\n",
       "      <td>NaN</td>\n",
       "      <td>185.5</td>\n",
       "      <td>5008.5</td>\n",
       "      <td>Y</td>\n",
       "      <td>8</td>\n",
       "      <td>N</td>\n",
       "      <td>N</td>\n",
       "      <td>0</td>\n",
       "      <td>0.0</td>\n",
       "      <td>0</td>\n",
       "      <td>Y</td>\n",
       "    </tr>\n",
       "    <tr>\n",
       "      <th>4</th>\n",
       "      <td>3160241992</td>\n",
       "      <td>NaN</td>\n",
       "      <td>500.0</td>\n",
       "      <td>26000.0</td>\n",
       "      <td>N</td>\n",
       "      <td>0</td>\n",
       "      <td>Y</td>\n",
       "      <td>Y</td>\n",
       "      <td>800</td>\n",
       "      <td>677.2</td>\n",
       "      <td>6</td>\n",
       "      <td>Y</td>\n",
       "    </tr>\n",
       "  </tbody>\n",
       "</table>\n",
       "</div>"
      ],
      "text/plain": [
       "   Merchant_id  Transaction date  ...  6-month_chbk_freq  isFradulent\n",
       "0   3160040998               NaN  ...                  0            Y\n",
       "1   3160040998               NaN  ...                  0            Y\n",
       "2   3160041896               NaN  ...                  0            Y\n",
       "3   3160141996               NaN  ...                  0            Y\n",
       "4   3160241992               NaN  ...                  6            Y\n",
       "\n",
       "[5 rows x 12 columns]"
      ]
     },
     "execution_count": 33,
     "metadata": {
      "tags": []
     },
     "output_type": "execute_result"
    }
   ],
   "source": [
    "df = pd.read_csv('creditcardcsvpresent.csv')\n",
    "df.head()"
   ]
  },
  {
   "cell_type": "code",
   "execution_count": null,
   "metadata": {
    "colab": {
     "base_uri": "https://localhost:8080/"
    },
    "id": "4V-rOY11Yc-T",
    "outputId": "bfab9b3e-ccd2-493e-94ce-9a3d86836868"
   },
   "outputs": [
    {
     "name": "stdout",
     "output_type": "stream",
     "text": [
      "<class 'pandas.core.frame.DataFrame'>\n",
      "RangeIndex: 3075 entries, 0 to 3074\n",
      "Data columns (total 12 columns):\n",
      " #   Column                          Non-Null Count  Dtype  \n",
      "---  ------                          --------------  -----  \n",
      " 0   Merchant_id                     3075 non-null   int64  \n",
      " 1   Transaction date                0 non-null      float64\n",
      " 2   Average Amount/transaction/day  3075 non-null   float64\n",
      " 3   Transaction_amount              3075 non-null   float64\n",
      " 4   Is declined                     3075 non-null   object \n",
      " 5   Total Number of declines/day    3075 non-null   int64  \n",
      " 6   isForeignTransaction            3075 non-null   object \n",
      " 7   isHighRiskCountry               3075 non-null   object \n",
      " 8   Daily_chargeback_avg_amt        3075 non-null   int64  \n",
      " 9   6_month_avg_chbk_amt            3075 non-null   float64\n",
      " 10  6-month_chbk_freq               3075 non-null   int64  \n",
      " 11  isFradulent                     3075 non-null   object \n",
      "dtypes: float64(4), int64(4), object(4)\n",
      "memory usage: 288.4+ KB\n"
     ]
    }
   ],
   "source": [
    "df.info()"
   ]
  },
  {
   "cell_type": "markdown",
   "metadata": {
    "id": "QwL3Uclgh8NT"
   },
   "source": [
    "**Se obtienen los histogramas de las variables numéricas**"
   ]
  },
  {
   "cell_type": "code",
   "execution_count": null,
   "metadata": {
    "colab": {
     "base_uri": "https://localhost:8080/",
     "height": 1000
    },
    "id": "u4uvQwtmYc-R",
    "outputId": "cd6c031b-73d4-40db-d3d9-fe5ec21ade4f"
   },
   "outputs": [
    {
     "data": {
      "image/png": "[encoded data removed]",
      "text/plain": [
       "<Figure size 1296x1080 with 9 Axes>"
      ]
     },
     "metadata": {
      "needs_background": "light",
      "tags": []
     },
     "output_type": "display_data"
    }
   ],
   "source": [
    "df.hist(bins=50, figsize=(18,15))\n",
    "plt.tight_layout()\n",
    "plt.show()"
   ]
  },
  {
   "cell_type": "markdown",
   "metadata": {
    "id": "MUWQRg4YYc-T"
   },
   "source": [
    "**De las variables numéricas hallar datos estadísticos: máximo, mínimo, media, mediana y cuartiles**"
   ]
  },
  {
   "cell_type": "code",
   "execution_count": null,
   "metadata": {
    "colab": {
     "base_uri": "https://localhost:8080/",
     "height": 301
    },
    "id": "LmCIVC5eYc-V",
    "outputId": "dfeebc0c-4799-44e6-9353-3587b6ce2394"
   },
   "outputs": [
    {
     "data": {
      "text/html": [
       "<div>\n",
       "<style scoped>\n",
       "    .dataframe tbody tr th:only-of-type {\n",
       "        vertical-align: middle;\n",
       "    }\n",
       "\n",
       "    .dataframe tbody tr th {\n",
       "        vertical-align: top;\n",
       "    }\n",
       "\n",
       "    .dataframe thead th {\n",
       "        text-align: right;\n",
       "    }\n",
       "</style>\n",
       "<table border=\"1\" class=\"dataframe\">\n",
       "  <thead>\n",
       "    <tr style=\"text-align: right;\">\n",
       "      <th></th>\n",
       "      <th>Merchant_id</th>\n",
       "      <th>Transaction date</th>\n",
       "      <th>Average Amount/transaction/day</th>\n",
       "      <th>Transaction_amount</th>\n",
       "      <th>Total Number of declines/day</th>\n",
       "      <th>Daily_chargeback_avg_amt</th>\n",
       "      <th>6_month_avg_chbk_amt</th>\n",
       "      <th>6-month_chbk_freq</th>\n",
       "    </tr>\n",
       "  </thead>\n",
       "  <tbody>\n",
       "    <tr>\n",
       "      <th>count</th>\n",
       "      <td>3.075000e+03</td>\n",
       "      <td>0.0</td>\n",
       "      <td>3075.000000</td>\n",
       "      <td>3075.000000</td>\n",
       "      <td>3075.000000</td>\n",
       "      <td>3075.000000</td>\n",
       "      <td>3075.000000</td>\n",
       "      <td>3075.000000</td>\n",
       "    </tr>\n",
       "    <tr>\n",
       "      <th>mean</th>\n",
       "      <td>5.026634e+09</td>\n",
       "      <td>NaN</td>\n",
       "      <td>515.026556</td>\n",
       "      <td>9876.399210</td>\n",
       "      <td>0.957398</td>\n",
       "      <td>55.737561</td>\n",
       "      <td>40.022407</td>\n",
       "      <td>0.391870</td>\n",
       "    </tr>\n",
       "    <tr>\n",
       "      <th>std</th>\n",
       "      <td>9.870778e+08</td>\n",
       "      <td>NaN</td>\n",
       "      <td>291.906978</td>\n",
       "      <td>10135.331016</td>\n",
       "      <td>2.192391</td>\n",
       "      <td>206.634779</td>\n",
       "      <td>155.968840</td>\n",
       "      <td>1.548479</td>\n",
       "    </tr>\n",
       "    <tr>\n",
       "      <th>min</th>\n",
       "      <td>3.160041e+09</td>\n",
       "      <td>NaN</td>\n",
       "      <td>4.011527</td>\n",
       "      <td>0.000000</td>\n",
       "      <td>0.000000</td>\n",
       "      <td>0.000000</td>\n",
       "      <td>0.000000</td>\n",
       "      <td>0.000000</td>\n",
       "    </tr>\n",
       "    <tr>\n",
       "      <th>25%</th>\n",
       "      <td>4.170814e+09</td>\n",
       "      <td>NaN</td>\n",
       "      <td>269.788047</td>\n",
       "      <td>2408.781147</td>\n",
       "      <td>0.000000</td>\n",
       "      <td>0.000000</td>\n",
       "      <td>0.000000</td>\n",
       "      <td>0.000000</td>\n",
       "    </tr>\n",
       "    <tr>\n",
       "      <th>50%</th>\n",
       "      <td>5.025578e+09</td>\n",
       "      <td>NaN</td>\n",
       "      <td>502.549575</td>\n",
       "      <td>6698.891856</td>\n",
       "      <td>0.000000</td>\n",
       "      <td>0.000000</td>\n",
       "      <td>0.000000</td>\n",
       "      <td>0.000000</td>\n",
       "    </tr>\n",
       "    <tr>\n",
       "      <th>75%</th>\n",
       "      <td>5.889625e+09</td>\n",
       "      <td>NaN</td>\n",
       "      <td>765.272803</td>\n",
       "      <td>14422.568935</td>\n",
       "      <td>0.000000</td>\n",
       "      <td>0.000000</td>\n",
       "      <td>0.000000</td>\n",
       "      <td>0.000000</td>\n",
       "    </tr>\n",
       "    <tr>\n",
       "      <th>max</th>\n",
       "      <td>6.665906e+09</td>\n",
       "      <td>NaN</td>\n",
       "      <td>2000.000000</td>\n",
       "      <td>108000.000000</td>\n",
       "      <td>20.000000</td>\n",
       "      <td>998.000000</td>\n",
       "      <td>998.000000</td>\n",
       "      <td>9.000000</td>\n",
       "    </tr>\n",
       "  </tbody>\n",
       "</table>\n",
       "</div>"
      ],
      "text/plain": [
       "        Merchant_id  Transaction date  ...  6_month_avg_chbk_amt  6-month_chbk_freq\n",
       "count  3.075000e+03               0.0  ...           3075.000000        3075.000000\n",
       "mean   5.026634e+09               NaN  ...             40.022407           0.391870\n",
       "std    9.870778e+08               NaN  ...            155.968840           1.548479\n",
       "min    3.160041e+09               NaN  ...              0.000000           0.000000\n",
       "25%    4.170814e+09               NaN  ...              0.000000           0.000000\n",
       "50%    5.025578e+09               NaN  ...              0.000000           0.000000\n",
       "75%    5.889625e+09               NaN  ...              0.000000           0.000000\n",
       "max    6.665906e+09               NaN  ...            998.000000           9.000000\n",
       "\n",
       "[8 rows x 8 columns]"
      ]
     },
     "execution_count": 36,
     "metadata": {
      "tags": []
     },
     "output_type": "execute_result"
    }
   ],
   "source": [
    "df.describe()"
   ]
  },
  {
   "cell_type": "markdown",
   "metadata": {
    "id": "SyISSOmhmZg-"
   },
   "source": [
    "**De las variables categóricas, listamos las diferentes categorías y hallamos la frecuencia de cada una de ellas**"
   ]
  },
  {
   "cell_type": "code",
   "execution_count": null,
   "metadata": {
    "id": "dWg47jgrYc-V"
   },
   "outputs": [],
   "source": [
    "df_categorical = df.select_dtypes(include=['object']).copy()"
   ]
  },
  {
   "cell_type": "code",
   "execution_count": null,
   "metadata": {
    "colab": {
     "base_uri": "https://localhost:8080/"
    },
    "id": "0XMHBWf9Yc-W",
    "outputId": "70b76f2f-3e1f-4e42-e7d9-b374983b8da4"
   },
   "outputs": [
    {
     "name": "stdout",
     "output_type": "stream",
     "text": [
      "\n",
      "Is declined\n",
      "N    3018\n",
      "Y      57\n",
      "Name: Is declined, dtype: int64\n",
      "\n",
      "isForeignTransaction\n",
      "N    2369\n",
      "Y     706\n",
      "Name: isForeignTransaction, dtype: int64\n",
      "\n",
      "isHighRiskCountry\n",
      "N    2870\n",
      "Y     205\n",
      "Name: isHighRiskCountry, dtype: int64\n",
      "\n",
      "isFradulent\n",
      "N    2627\n",
      "Y     448\n",
      "Name: isFradulent, dtype: int64\n"
     ]
    }
   ],
   "source": [
    "for column in df_categorical:\n",
    "    print(\"\\n\" + column)\n",
    "    print(df_categorical[column].value_counts())"
   ]
  },
  {
   "cell_type": "markdown",
   "metadata": {
    "id": "JpWGcfGZYc-X"
   },
   "source": [
    "**Crear la matriz de correlaciones con las columnas numéricas**"
   ]
  },
  {
   "cell_type": "code",
   "execution_count": null,
   "metadata": {
    "id": "mywrK_gOYc-Y"
   },
   "outputs": [],
   "source": [
    "matriz_corr = df.corr()"
   ]
  },
  {
   "cell_type": "code",
   "execution_count": null,
   "metadata": {
    "colab": {
     "base_uri": "https://localhost:8080/",
     "height": 642
    },
    "id": "gUXzxWlvYc-Z",
    "outputId": "76929aad-4f3c-4705-a088-c3494eda57b6"
   },
   "outputs": [
    {
     "data": {
      "image/png": "[encoded data removed]",
      "text/plain": [
       "<Figure size 864x576 with 2 Axes>"
      ]
     },
     "metadata": {
      "needs_background": "light",
      "tags": []
     },
     "output_type": "display_data"
    }
   ],
   "source": [
    "plt.figure(figsize=(12,8))\n",
    "sns.heatmap(matriz_corr,annot=True, fmt='.2f');"
   ]
  },
  {
   "cell_type": "markdown",
   "metadata": {
    "id": "QWRAA2kZb9q7"
   },
   "source": [
    "**Encontramos las correlaciones más altas, que superen el 0.75**"
   ]
  },
  {
   "cell_type": "code",
   "execution_count": null,
   "metadata": {
    "colab": {
     "base_uri": "https://localhost:8080/"
    },
    "id": "1cyaWCo4Yc-a",
    "outputId": "eb4b5cea-3380-40c6-d27d-84a378e4350a"
   },
   "outputs": [
    {
     "name": "stdout",
     "output_type": "stream",
     "text": [
      "(6_month_avg_chbk_amt, 6-month_chbk_freq)           0.851339\n",
      "(Daily_chargeback_avg_amt, 6-month_chbk_freq)       0.884611\n",
      "(Daily_chargeback_avg_amt, 6_month_avg_chbk_amt)    0.953663\n",
      "dtype: float64\n"
     ]
    }
   ],
   "source": [
    "parejas_correlacionadas = matriz_corr.unstack()\n",
    "parejas_ordenadas = parejas_correlacionadas.sort_values(kind=\"quicksort\")\n",
    "parejas_ordenadas = parejas_ordenadas[parejas_ordenadas != 1]\n",
    "parejas_corr_alta = parejas_ordenadas[parejas_ordenadas > 0.75]\n",
    "\n",
    "tempSerie = pd.Series([],dtype=\"float64\")\n",
    "templist = []\n",
    "for index_, value in parejas_corr_alta.items():\n",
    "    if value not in templist:\n",
    "        templist.append(value)\n",
    "        tempSerie = tempSerie.append(parejas_corr_alta.loc[[index_]])\n",
    "\n",
    "parejas_corr_alta = tempSerie\n",
    "del(templist)\n",
    "del(tempSerie)\n",
    "print(parejas_corr_alta)"
   ]
  },
  {
   "cell_type": "markdown",
   "metadata": {
    "id": "O0owLP4scPES"
   },
   "source": [
    "**Revisamos las correlaciones más altas y decidimos si eliminar o no la columna**"
   ]
  },
  {
   "cell_type": "code",
   "execution_count": null,
   "metadata": {
    "id": "mogMFfehYc-c"
   },
   "outputs": [],
   "source": [
    "to_drop = ['6_month_avg_chbk_amt', '6-month_chbk_freq']\n",
    "\n",
    "df.drop(columns = to_drop, axis=1, inplace=True)"
   ]
  },
  {
   "cell_type": "markdown",
   "metadata": {
    "id": "UX5klxYacmaq"
   },
   "source": [
    "## 2. Tratamiento de missing"
   ]
  },
  {
   "cell_type": "code",
   "execution_count": null,
   "metadata": {
    "colab": {
     "base_uri": "https://localhost:8080/"
    },
    "id": "SWZW9wqkYc-c",
    "outputId": "a7a44b26-31b5-4660-8aff-9032f264fbe7"
   },
   "outputs": [
    {
     "data": {
      "text/plain": [
       "Merchant_id                          0\n",
       "Transaction date                  3075\n",
       "Average Amount/transaction/day       0\n",
       "Transaction_amount                   0\n",
       "Is declined                          0\n",
       "Total Number of declines/day         0\n",
       "isForeignTransaction                 0\n",
       "isHighRiskCountry                    0\n",
       "Daily_chargeback_avg_amt             0\n",
       "isFradulent                          0\n",
       "dtype: int64"
      ]
     },
     "execution_count": 43,
     "metadata": {
      "tags": []
     },
     "output_type": "execute_result"
    }
   ],
   "source": [
    "df.isnull().sum()"
   ]
  },
  {
   "cell_type": "markdown",
   "metadata": {
    "id": "jQx228Oqcu9I"
   },
   "source": [
    "Como se puede observar, sólo hay una variable con valores faltantes: la variable 'Transaction date'. Esta variable sólo tiene valores nulos, por lo que se decide eliminarla."
   ]
  },
  {
   "cell_type": "code",
   "execution_count": null,
   "metadata": {
    "id": "pfuA2yzVYc-d"
   },
   "outputs": [],
   "source": [
    "df.drop(columns = 'Transaction date', axis=1, inplace=True)"
   ]
  },
  {
   "cell_type": "markdown",
   "metadata": {
    "id": "5gp6bswYnQi0"
   },
   "source": [
    "Se elimina la variable \"Merchant_id\", ya que el identificador no está aportando información."
   ]
  },
  {
   "cell_type": "code",
   "execution_count": null,
   "metadata": {
    "id": "WKzo20l4nFPF"
   },
   "outputs": [],
   "source": [
    "df.drop(columns = 'Merchant_id', axis=1, inplace=True)"
   ]
  },
  {
   "cell_type": "markdown",
   "metadata": {
    "id": "ybIus3wdmI7Y"
   },
   "source": [
    "**Box plot de las variables numéricas**"
   ]
  },
  {
   "cell_type": "code",
   "execution_count": null,
   "metadata": {
    "colab": {
     "base_uri": "https://localhost:8080/",
     "height": 1000
    },
    "id": "vu25n6hV_sRp",
    "outputId": "25f6e37c-e2b3-404d-ad8f-d8fb3f5f1942"
   },
   "outputs": [
    {
     "data": {
      "image/png": "[encoded data removed]",
      "text/plain": [
       "<Figure size 432x288 with 1 Axes>"
      ]
     },
     "metadata": {
      "needs_background": "light",
      "tags": []
     },
     "output_type": "display_data"
    },
    {
     "data": {
      "image/png": "[encoded data removed]",
      "text/plain": [
       "<Figure size 432x288 with 1 Axes>"
      ]
     },
     "metadata": {
      "needs_background": "light",
      "tags": []
     },
     "output_type": "display_data"
    },
    {
     "data": {
      "image/png": "[encoded data removed]",
      "text/plain": [
       "<Figure size 432x288 with 1 Axes>"
      ]
     },
     "metadata": {
      "needs_background": "light",
      "tags": []
     },
     "output_type": "display_data"
    },
    {
     "data": {
      "image/png": "[encoded data removed]",
      "text/plain": [
       "<Figure size 432x288 with 1 Axes>"
      ]
     },
     "metadata": {
      "needs_background": "light",
      "tags": []
     },
     "output_type": "display_data"
    }
   ],
   "source": [
    "col_nombres=[]\n",
    "for col in df.columns: \n",
    "  if col not in df_categorical.columns:\n",
    "    col_nombres.append(col)\n",
    "    boxplot = df.boxplot(column=col)\n",
    "    plt.show()"
   ]
  },
  {
   "cell_type": "markdown",
   "metadata": {
    "id": "iYitssRAeGmV"
   },
   "source": [
    "## 3. Problema de cluster o agrupamiento"
   ]
  },
  {
   "cell_type": "markdown",
   "metadata": {
    "id": "PWtVJ1TqeWDQ"
   },
   "source": [
    "**Se crean al menos dos modelos con grupos diferentes para poder compararlos**"
   ]
  },
  {
   "cell_type": "code",
   "execution_count": null,
   "metadata": {
    "colab": {
     "base_uri": "https://localhost:8080/"
    },
    "id": "wEW9akZKoFKi",
    "outputId": "11ee4b4f-70de-4c58-975e-f4de8ca67e19"
   },
   "outputs": [
    {
     "name": "stdout",
     "output_type": "stream",
     "text": [
      "Index(['Is declined', 'isForeignTransaction', 'isHighRiskCountry',\n",
      "       'isFradulent'],\n",
      "      dtype='object')\n"
     ]
    }
   ],
   "source": [
    "columns = df.select_dtypes(include=['object']).columns\n",
    "print(columns)"
   ]
  },
  {
   "cell_type": "code",
   "execution_count": null,
   "metadata": {
    "colab": {
     "base_uri": "https://localhost:8080/",
     "height": 212
    },
    "id": "tk31iM2an4ar",
    "outputId": "7b3e52ee-d932-45cb-b8bc-efc02e9b791a"
   },
   "outputs": [
    {
     "data": {
      "text/html": [
       "<div>\n",
       "<style scoped>\n",
       "    .dataframe tbody tr th:only-of-type {\n",
       "        vertical-align: middle;\n",
       "    }\n",
       "\n",
       "    .dataframe tbody tr th {\n",
       "        vertical-align: top;\n",
       "    }\n",
       "\n",
       "    .dataframe thead th {\n",
       "        text-align: right;\n",
       "    }\n",
       "</style>\n",
       "<table border=\"1\" class=\"dataframe\">\n",
       "  <thead>\n",
       "    <tr style=\"text-align: right;\">\n",
       "      <th></th>\n",
       "      <th>Average Amount/transaction/day</th>\n",
       "      <th>Transaction_amount</th>\n",
       "      <th>Total Number of declines/day</th>\n",
       "      <th>Daily_chargeback_avg_amt</th>\n",
       "      <th>Is declined_Y</th>\n",
       "      <th>isForeignTransaction_Y</th>\n",
       "      <th>isHighRiskCountry_Y</th>\n",
       "      <th>isFradulent_Y</th>\n",
       "    </tr>\n",
       "  </thead>\n",
       "  <tbody>\n",
       "    <tr>\n",
       "      <th>0</th>\n",
       "      <td>100.0</td>\n",
       "      <td>3000.0</td>\n",
       "      <td>5</td>\n",
       "      <td>0</td>\n",
       "      <td>0</td>\n",
       "      <td>1</td>\n",
       "      <td>1</td>\n",
       "      <td>1</td>\n",
       "    </tr>\n",
       "    <tr>\n",
       "      <th>1</th>\n",
       "      <td>100.0</td>\n",
       "      <td>4300.0</td>\n",
       "      <td>5</td>\n",
       "      <td>0</td>\n",
       "      <td>0</td>\n",
       "      <td>1</td>\n",
       "      <td>1</td>\n",
       "      <td>1</td>\n",
       "    </tr>\n",
       "    <tr>\n",
       "      <th>2</th>\n",
       "      <td>185.5</td>\n",
       "      <td>4823.0</td>\n",
       "      <td>5</td>\n",
       "      <td>0</td>\n",
       "      <td>1</td>\n",
       "      <td>0</td>\n",
       "      <td>0</td>\n",
       "      <td>1</td>\n",
       "    </tr>\n",
       "    <tr>\n",
       "      <th>3</th>\n",
       "      <td>185.5</td>\n",
       "      <td>5008.5</td>\n",
       "      <td>8</td>\n",
       "      <td>0</td>\n",
       "      <td>1</td>\n",
       "      <td>0</td>\n",
       "      <td>0</td>\n",
       "      <td>1</td>\n",
       "    </tr>\n",
       "    <tr>\n",
       "      <th>4</th>\n",
       "      <td>500.0</td>\n",
       "      <td>26000.0</td>\n",
       "      <td>0</td>\n",
       "      <td>800</td>\n",
       "      <td>0</td>\n",
       "      <td>1</td>\n",
       "      <td>1</td>\n",
       "      <td>1</td>\n",
       "    </tr>\n",
       "  </tbody>\n",
       "</table>\n",
       "</div>"
      ],
      "text/plain": [
       "   Average Amount/transaction/day  ...  isFradulent_Y\n",
       "0                           100.0  ...              1\n",
       "1                           100.0  ...              1\n",
       "2                           185.5  ...              1\n",
       "3                           185.5  ...              1\n",
       "4                           500.0  ...              1\n",
       "\n",
       "[5 rows x 8 columns]"
      ]
     },
     "execution_count": 48,
     "metadata": {
      "tags": []
     },
     "output_type": "execute_result"
    }
   ],
   "source": [
    "# Get dummies\n",
    "df = pd.get_dummies(df, columns=columns, drop_first=True)\n",
    "df.head()"
   ]
  },
  {
   "cell_type": "code",
   "execution_count": null,
   "metadata": {
    "colab": {
     "base_uri": "https://localhost:8080/",
     "height": 568
    },
    "id": "b8WK2yuWe28h",
    "outputId": "74b2c271-ca97-4724-d05d-209332c39e97"
   },
   "outputs": [
    {
     "name": "stderr",
     "output_type": "stream",
     "text": [
      "/usr/local/lib/python3.7/dist-packages/seaborn/_decorators.py:43: FutureWarning: Pass the following variable as a keyword arg: x. From version 0.12, the only valid positional argument will be `data`, and passing other arguments without an explicit keyword will result in an error or misinterpretation.\n",
      "  FutureWarning\n"
     ]
    },
    {
     "data": {
      "image/png": "[encoded data removed]",
      "text/plain": [
       "<Figure size 1296x576 with 2 Axes>"
      ]
     },
     "metadata": {
      "needs_background": "light",
      "tags": []
     },
     "output_type": "display_data"
    }
   ],
   "source": [
    "f, ax = plt.subplots(1, 2, figsize=(18, 8))\n",
    "\n",
    "df['isFradulent_Y'].value_counts().plot.pie(explode=[0, 0.1], autopct='%1.f%%', ax=ax[0], shadow=True)\n",
    "ax[0].set_title('Pie plot - isFradulent')\n",
    "ax[0].set_ylabel('')\n",
    "sns.countplot('isFradulent_Y', data=df, ax=ax[1])\n",
    "ax[1].set_title('Count plot - isFradulent')\n",
    "\n",
    "plt.show();"
   ]
  },
  {
   "cell_type": "code",
   "execution_count": null,
   "metadata": {
    "id": "3Zm2Pz8-ebLe"
   },
   "outputs": [],
   "source": [
    "\n",
    "\n",
    "X_df = df[df.columns[:-1]]\n",
    "Y_df = df['isFradulent_Y']\n",
    "#Escalamos los datos\n",
    "scaler = StandardScaler() \n",
    "scaler.fit(X_df) \n",
    "X_df_scaled = scaler.transform(X_df)\n",
    "\n",
    "df_scaled = pd.DataFrame(X_df_scaled ,  columns=X_df.columns)"
   ]
  },
  {
   "cell_type": "code",
   "execution_count": null,
   "metadata": {
    "colab": {
     "base_uri": "https://localhost:8080/",
     "height": 463
    },
    "id": "3O_rGuBfqxwB",
    "outputId": "1865b2c9-6736-47d8-a2c5-3ed83955f452"
   },
   "outputs": [
    {
     "data": {
      "image/png": "[encoded data removed]",
      "text/plain": [
       "<Figure size 576x432 with 1 Axes>"
      ]
     },
     "metadata": {
      "needs_background": "light",
      "tags": []
     },
     "output_type": "display_data"
    }
   ],
   "source": [
    "# Creamos una figura.\n",
    "fig = plt.figure(1, figsize=(8, 6))\n",
    "# De tipo 3D\n",
    "ax = Axes3D(fig, elev=-150, azim=110)\n",
    "# Y representamos los diferentes puntos\n",
    "ax.scatter(X_df.iloc[:,0], X_df.iloc[:,1],c=df['isFradulent_Y'])\n",
    "\n",
    "\n",
    "ax.w_xaxis.set_ticklabels([])\n",
    "\n",
    "ax.w_yaxis.set_ticklabels([])\n",
    "\n",
    "_ = ax.w_zaxis.set_ticklabels([])"
   ]
  },
  {
   "cell_type": "code",
   "execution_count": null,
   "metadata": {
    "colab": {
     "base_uri": "https://localhost:8080/",
     "height": 350
    },
    "id": "yTy5aKWtuHqv",
    "outputId": "971808ad-520e-494d-e553-40085d071a29"
   },
   "outputs": [
    {
     "name": "stdout",
     "output_type": "stream",
     "text": [
      "[2, 3, 4, 5, 6, 7, 8, 9, 10, 11, 12, 13]\n",
      "[16625.22781062982, 13536.77397879983, 10930.855176747446, 8819.764953578571, 7043.129115042141, 5944.766500527422, 5539.367299330609, 5146.9388134943, 4809.198815418809, 4449.118323110265, 4154.187476207437, 3980.194865441149]\n"
     ]
    },
    {
     "data": {
      "text/plain": [
       "[<matplotlib.lines.Line2D at 0x7f87c59aa810>]"
      ]
     },
     "execution_count": 52,
     "metadata": {
      "tags": []
     },
     "output_type": "execute_result"
    },
    {
     "data": {
      "image/png": "[encoded data removed]",
      "text/plain": [
       "<Figure size 432x288 with 1 Axes>"
      ]
     },
     "metadata": {
      "needs_background": "light",
      "tags": []
     },
     "output_type": "display_data"
    }
   ],
   "source": [
    "n_clusters=[]\n",
    "inertia=[]\n",
    "\n",
    "for n in range(2,14):\n",
    "    n_clusters.append(n)\n",
    "    k_means = cluster.KMeans(n_clusters=n)\n",
    "    k_means.fit(X_df_scaled)\n",
    "    inertia.append(k_means.inertia_)\n",
    "\n",
    "print(n_clusters)\n",
    "print(inertia)\n",
    "\n",
    "plt.xlabel('Number of clusters')\n",
    "plt.ylabel('Inertia')\n",
    "plt.plot(n_clusters,inertia)"
   ]
  },
  {
   "cell_type": "markdown",
   "metadata": {
    "id": "vCW6Bebf-pyD"
   },
   "source": [
    "La inercia nos indica cómo de alejados están los puntos dentro de un mismo cluster. Ésta disminuye a medida que se aumenta el número de clusteres y un criterio que se suele aplicar para escoger este número es ver el punto de inflexión a partir del cual la inercia ya no disminye tan significativamente. Aunque en esta imagen podamos observar que el punto de inflexión se encontraría aproximadamente en 7, no es un buen criterio para determinar el número de clusters ya que las clases no están balanceadas, es decir, queremos detectar anomalías."
   ]
  },
  {
   "cell_type": "markdown",
   "metadata": {
    "id": "xZFxt4kAdUtB"
   },
   "source": [
    "Comprobamos que para 7 clústers los resultados no son buenos."
   ]
  },
  {
   "cell_type": "code",
   "execution_count": null,
   "metadata": {
    "colab": {
     "base_uri": "https://localhost:8080/"
    },
    "id": "yN1_Z51LdOii",
    "outputId": "aea47e08-af48-41bd-e2f8-0c392d363fd5"
   },
   "outputs": [
    {
     "data": {
      "text/plain": [
       "KMeans(algorithm='auto', copy_x=True, init='k-means++', max_iter=300,\n",
       "       n_clusters=7, n_init=10, n_jobs=None, precompute_distances='auto',\n",
       "       random_state=None, tol=0.0001, verbose=0)"
      ]
     },
     "execution_count": 53,
     "metadata": {
      "tags": []
     },
     "output_type": "execute_result"
    }
   ],
   "source": [
    "X_train, X_test, y_train, y_test = train_test_split(X_df_scaled, Y_df, test_size=0.2)\n",
    "k_means = cluster.KMeans(n_clusters=7)\n",
    "k_means.fit(X_train)\n"
   ]
  },
  {
   "cell_type": "code",
   "execution_count": null,
   "metadata": {
    "id": "nh-iRiNld80y"
   },
   "outputs": [],
   "source": [
    "y_pred = k_means.predict(X_test)"
   ]
  },
  {
   "cell_type": "code",
   "execution_count": null,
   "metadata": {
    "colab": {
     "base_uri": "https://localhost:8080/"
    },
    "id": "egzdE5nheZ5Y",
    "outputId": "ddc2b763-667f-4613-879b-50dc1219f966"
   },
   "outputs": [
    {
     "data": {
      "text/plain": [
       "6    216\n",
       "1    189\n",
       "5     99\n",
       "4     37\n",
       "0     33\n",
       "3     30\n",
       "2     11\n",
       "dtype: int64"
      ]
     },
     "execution_count": 55,
     "metadata": {
      "tags": []
     },
     "output_type": "execute_result"
    }
   ],
   "source": [
    "y_pred_df = pd.DataFrame(y_pred)\n",
    "\n",
    "y_pred_df.value_counts()"
   ]
  },
  {
   "cell_type": "code",
   "execution_count": null,
   "metadata": {
    "colab": {
     "base_uri": "https://localhost:8080/"
    },
    "id": "J-hH1YfYd657",
    "outputId": "0036189c-ed55-4eea-93a2-e519497d5d9f"
   },
   "outputs": [
    {
     "name": "stdout",
     "output_type": "stream",
     "text": [
      "Accuracy Score: \n",
      " 0.02926829268292683\n",
      "              precision    recall  f1-score   support\n",
      "\n",
      "           0       0.52      0.03      0.06       535\n",
      "           1       0.01      0.01      0.01        80\n",
      "           2       0.00      0.00      0.00         0\n",
      "           3       0.00      0.00      0.00         0\n",
      "           4       0.00      0.00      0.00         0\n",
      "           5       0.00      0.00      0.00         0\n",
      "           6       0.00      0.00      0.00         0\n",
      "\n",
      "    accuracy                           0.03       615\n",
      "   macro avg       0.07      0.01      0.01       615\n",
      "weighted avg       0.45      0.03      0.05       615\n",
      "\n",
      "Confusion matrix: \n",
      " [[ 17 188   3   0  21  90 216]\n",
      " [ 16   1   8  30  16   9   0]\n",
      " [  0   0   0   0   0   0   0]\n",
      " [  0   0   0   0   0   0   0]\n",
      " [  0   0   0   0   0   0   0]\n",
      " [  0   0   0   0   0   0   0]\n",
      " [  0   0   0   0   0   0   0]]\n"
     ]
    },
    {
     "name": "stderr",
     "output_type": "stream",
     "text": [
      "/usr/local/lib/python3.7/dist-packages/sklearn/metrics/_classification.py:1272: UndefinedMetricWarning: Recall and F-score are ill-defined and being set to 0.0 in labels with no true samples. Use `zero_division` parameter to control this behavior.\n",
      "  _warn_prf(average, modifier, msg_start, len(result))\n"
     ]
    }
   ],
   "source": [
    "print('Accuracy Score: \\n', metrics.accuracy_score(y_test,y_pred ))\n",
    "print(metrics.classification_report(y_test,y_pred )) # Reporte de clasificación\n",
    "print('Confusion matrix: \\n', metrics.confusion_matrix(y_test,y_pred ))"
   ]
  },
  {
   "cell_type": "code",
   "execution_count": null,
   "metadata": {
    "colab": {
     "base_uri": "https://localhost:8080/",
     "height": 390
    },
    "id": "nlNcW0-BeUdD",
    "outputId": "af3700a2-04f1-443d-9de9-020475d794af"
   },
   "outputs": [
    {
     "data": {
      "text/plain": [
       "array([<matplotlib.axes._subplots.AxesSubplot object at 0x7f87c58afb10>],\n",
       "      dtype=object)"
      ]
     },
     "execution_count": 57,
     "metadata": {
      "tags": []
     },
     "output_type": "execute_result"
    },
    {
     "data": {
      "image/png": "[encoded data removed]",
      "text/plain": [
       "<Figure size 792x432 with 1 Axes>"
      ]
     },
     "metadata": {
      "tags": []
     },
     "output_type": "display_data"
    }
   ],
   "source": [
    "y_pred_df.value_counts().plot.pie(subplots=True, figsize=(11, 6))"
   ]
  },
  {
   "cell_type": "markdown",
   "metadata": {
    "id": "gR20A61SOTtz"
   },
   "source": [
    "**Se imprimen los centroides de los grupos de este modelo**"
   ]
  },
  {
   "cell_type": "code",
   "execution_count": null,
   "metadata": {
    "colab": {
     "base_uri": "https://localhost:8080/"
    },
    "id": "a3qvjIbcOMYD",
    "outputId": "1ca13f89-fe47-43ae-aa96-f7771fc8c416"
   },
   "outputs": [
    {
     "name": "stdout",
     "output_type": "stream",
     "text": [
      "[4 1 6 ... 6 5 1]\n",
      "[[ 0.0306198   0.3690929   2.36559198 -0.26978337 -0.13742882  0.09569783\n",
      "  -0.26726124]\n",
      " [ 0.88643519  0.21923683 -0.3687542  -0.26620746 -0.13742882 -0.54590845\n",
      "  -0.26726124]\n",
      " [ 0.61984695  1.5561698   0.85249058  2.90373279  7.27649424  0.53957124\n",
      "   0.77854362]\n",
      " [-0.06896812  1.11721862  1.18393823 -0.18861376 -0.13742882  1.83180896\n",
      "   3.74165739]\n",
      " [ 0.13397634  0.93670756  0.48370627  3.77083475 -0.13742882 -0.01986478\n",
      "  -0.05439831]\n",
      " [ 0.08041715 -0.04631808 -0.28620235 -0.26131693 -0.13742882  1.83180896\n",
      "  -0.26726124]\n",
      " [-0.8040935  -0.61648189 -0.34440666 -0.25883225 -0.13742882 -0.54590845\n",
      "  -0.26726124]]\n"
     ]
    }
   ],
   "source": [
    "centroides = k_means.cluster_centers_\n",
    "labels = k_means.labels_\n",
    "print(labels)\n",
    "print(centroides)"
   ]
  },
  {
   "cell_type": "code",
   "execution_count": null,
   "metadata": {
    "colab": {
     "base_uri": "https://localhost:8080/",
     "height": 315
    },
    "id": "HQCtHAvgOPNM",
    "outputId": "fb331341-c996-4d9f-e214-e0d83c8ba3f4"
   },
   "outputs": [
    {
     "name": "stderr",
     "output_type": "stream",
     "text": [
      "/usr/local/lib/python3.7/dist-packages/matplotlib/collections.py:885: RuntimeWarning: invalid value encountered in sqrt\n",
      "  scale = np.sqrt(self._sizes) * dpi / 72.0 * self._factor\n"
     ]
    },
    {
     "data": {
      "text/plain": [
       "<matplotlib.collections.PathCollection at 0x7f87c57ed210>"
      ]
     },
     "execution_count": 59,
     "metadata": {
      "tags": []
     },
     "output_type": "execute_result"
    },
    {
     "data": {
      "image/png": "[encoded data removed]",
      "text/plain": [
       "<Figure size 432x288 with 1 Axes>"
      ]
     },
     "metadata": {
      "needs_background": "light",
      "tags": []
     },
     "output_type": "display_data"
    }
   ],
   "source": [
    "colors = [\"green\",\"red\",\"blue\",\"yellow\",\"pink\", \"black\", \"purple\"]\n",
    "centroids_x = centroides[:,0]\n",
    "centroids_y = centroides[:,1]\n",
    "\n",
    "X_train_df = pd.DataFrame(X_train, columns = df_scaled.columns)\n",
    "plt.scatter(X_train_df.iloc[:,0], X_train_df.iloc[:,1], X_train_df.iloc[:,2], c=np.array(colors)[labels], alpha=.1)\n",
    "plt.scatter(centroids_x,centroids_y,marker = \"x\", s=150,linewidths = 5, zorder = 10, c=colors)"
   ]
  },
  {
   "cell_type": "markdown",
   "metadata": {
    "id": "pdkN-SOcJjFN"
   },
   "source": [
    "Como vemos los grupos que se han obtenido no siguen la lógica que buscábamos para detectar anomalías. "
   ]
  },
  {
   "cell_type": "markdown",
   "metadata": {
    "id": "bhWe6lRXX4RB"
   },
   "source": [
    "**Segundo modelo**"
   ]
  },
  {
   "cell_type": "markdown",
   "metadata": {
    "id": "u-8PP2y2KH-E"
   },
   "source": [
    "Probaremos ahora con dos clústeres "
   ]
  },
  {
   "cell_type": "code",
   "execution_count": null,
   "metadata": {
    "colab": {
     "base_uri": "https://localhost:8080/"
    },
    "id": "kzjPxz9IpK4C",
    "outputId": "1d2aa604-b641-45b3-bba1-8e98ae7b0e61"
   },
   "outputs": [
    {
     "data": {
      "text/plain": [
       "KMeans(algorithm='auto', copy_x=True, init='k-means++', max_iter=300,\n",
       "       n_clusters=2, n_init=10, n_jobs=None, precompute_distances='auto',\n",
       "       random_state=None, tol=0.0001, verbose=0)"
      ]
     },
     "execution_count": 60,
     "metadata": {
      "tags": []
     },
     "output_type": "execute_result"
    }
   ],
   "source": [
    "k_means = cluster.KMeans(n_clusters=2)\n",
    "k_means.fit(X_train)"
   ]
  },
  {
   "cell_type": "code",
   "execution_count": null,
   "metadata": {
    "id": "07mqC5YOtgtj"
   },
   "outputs": [],
   "source": [
    "y_pred = k_means.predict(X_test)"
   ]
  },
  {
   "cell_type": "code",
   "execution_count": null,
   "metadata": {
    "colab": {
     "base_uri": "https://localhost:8080/"
    },
    "id": "qa2LXHlkboSj",
    "outputId": "8ea5cf01-8ed5-4b1b-a3c7-b36aef49cae0"
   },
   "outputs": [
    {
     "data": {
      "text/plain": [
       "0    554\n",
       "1     61\n",
       "dtype: int64"
      ]
     },
     "execution_count": 62,
     "metadata": {
      "tags": []
     },
     "output_type": "execute_result"
    }
   ],
   "source": [
    "y_pred_df = pd.DataFrame(y_pred)\n",
    "\n",
    "y_pred_df.value_counts()"
   ]
  },
  {
   "cell_type": "markdown",
   "metadata": {
    "id": "FbQnHUJedBb3"
   },
   "source": [
    "\n",
    "\n",
    "Hacemos un plot pie de los valores predichos\n",
    "\n"
   ]
  },
  {
   "cell_type": "code",
   "execution_count": null,
   "metadata": {
    "colab": {
     "base_uri": "https://localhost:8080/",
     "height": 390
    },
    "id": "x079YQEecEsO",
    "outputId": "da6efe11-d36d-4e5f-bed3-b3554af77a4f"
   },
   "outputs": [
    {
     "data": {
      "text/plain": [
       "array([<matplotlib.axes._subplots.AxesSubplot object at 0x7f87c57aeb50>],\n",
       "      dtype=object)"
      ]
     },
     "execution_count": 63,
     "metadata": {
      "tags": []
     },
     "output_type": "execute_result"
    },
    {
     "data": {
      "image/png": "[encoded data removed]",
      "text/plain": [
       "<Figure size 792x432 with 1 Axes>"
      ]
     },
     "metadata": {
      "tags": []
     },
     "output_type": "display_data"
    }
   ],
   "source": [
    "y_pred_df.value_counts().plot.pie(subplots=True, figsize=(11, 6))"
   ]
  },
  {
   "cell_type": "code",
   "execution_count": null,
   "metadata": {
    "colab": {
     "base_uri": "https://localhost:8080/"
    },
    "id": "mtvM3BmItrDv",
    "outputId": "fb594a3a-ffbb-44af-ac4c-48cb49d188fc"
   },
   "outputs": [
    {
     "name": "stdout",
     "output_type": "stream",
     "text": [
      "Accuracy Score \n",
      ": 0.9463414634146341\n",
      "              precision    recall  f1-score   support\n",
      "\n",
      "           0       0.95      0.99      0.97       535\n",
      "           1       0.89      0.68      0.77        80\n",
      "\n",
      "    accuracy                           0.95       615\n",
      "   macro avg       0.92      0.83      0.87       615\n",
      "weighted avg       0.94      0.95      0.94       615\n",
      "\n",
      "Confusion matrix \n",
      ": [[528   7]\n",
      " [ 26  54]]\n"
     ]
    }
   ],
   "source": [
    "\n",
    "print('Accuracy Score \\n:', metrics.accuracy_score(y_test,y_pred ))\n",
    "print(metrics.classification_report(y_test,y_pred )) # Reporte de clasificación\n",
    "print('Confusion matrix \\n:', metrics.confusion_matrix(y_test,y_pred ))"
   ]
  },
  {
   "cell_type": "markdown",
   "metadata": {
    "id": "RDVmoxIH_O6h"
   },
   "source": [
    "Como podemos observar los resultados son mucho mejores. En la matriz de confusión vemos que nos ha clasificado 26 anomalías como no anomalías y 7 que no son anomalías nos lo ha clasificado como anomalías. Esto nos indica que, aunque a priori son buenos resultados, siempre sería mejor que en este tipo de casos nos detectara anomalías aunque no lo sean y no que no nos detectara como anomalías cuando si lo sean. Es decir, minimizar los falsos negativos (los que no detectamos como anomalía que si lo son, en este caso 26) a costa de que aumente el número de falsos positivos que son los que detectamos como anomalías pero no lo son.  Por lo tanto, es preferible tener más falsos positivos que falsos negativos para poder detectar mejor las anomalías. "
   ]
  },
  {
   "cell_type": "markdown",
   "metadata": {
    "id": "zuL6YdAaecPF"
   },
   "source": [
    "**Se imprimen los centroides de los grupos de este modelo**"
   ]
  },
  {
   "cell_type": "code",
   "execution_count": null,
   "metadata": {
    "colab": {
     "base_uri": "https://localhost:8080/"
    },
    "id": "oc9tXPyReyHP",
    "outputId": "b0e783ac-6f81-4314-b520-2fc9b94871cc"
   },
   "outputs": [
    {
     "name": "stdout",
     "output_type": "stream",
     "text": [
      "2460\n",
      "[[-0.02649165 -0.18156598 -0.15894068 -0.13748412 -0.13062393 -0.19454315\n",
      "  -0.26726124]\n",
      " [ 0.24941566  1.46110227  1.3928969   0.94640962  1.02347017  1.40026594\n",
      "   2.1580632 ]]\n"
     ]
    }
   ],
   "source": [
    "centroides = k_means.cluster_centers_\n",
    "labels = k_means.labels_\n",
    "print(labels.size)\n",
    "print(centroides)"
   ]
  },
  {
   "cell_type": "code",
   "execution_count": null,
   "metadata": {
    "colab": {
     "base_uri": "https://localhost:8080/",
     "height": 315
    },
    "id": "UqHIzkBHby3x",
    "outputId": "e5e0d08b-f9c7-4010-b71f-1870d9d2103a"
   },
   "outputs": [
    {
     "name": "stderr",
     "output_type": "stream",
     "text": [
      "/usr/local/lib/python3.7/dist-packages/matplotlib/collections.py:885: RuntimeWarning: invalid value encountered in sqrt\n",
      "  scale = np.sqrt(self._sizes) * dpi / 72.0 * self._factor\n"
     ]
    },
    {
     "data": {
      "text/plain": [
       "<matplotlib.collections.PathCollection at 0x7f87c5838690>"
      ]
     },
     "execution_count": 66,
     "metadata": {
      "tags": []
     },
     "output_type": "execute_result"
    },
    {
     "data": {
      "image/png": "[encoded data removed]",
      "text/plain": [
       "<Figure size 432x288 with 1 Axes>"
      ]
     },
     "metadata": {
      "needs_background": "light",
      "tags": []
     },
     "output_type": "display_data"
    }
   ],
   "source": [
    "colors = [\"green\",\"red\"]\n",
    "centroids_x = centroides[:,0]\n",
    "centroids_y = centroides[:,1]\n",
    "\n",
    "X_train_df = pd.DataFrame(X_train, columns = df_scaled.columns)\n",
    "plt.scatter(X_train_df.iloc[:,0], X_train_df.iloc[:,1], X_train_df.iloc[:,2], c=np.array(colors)[labels], alpha=.1)\n",
    "plt.scatter(centroids_x,centroids_y,marker = \"x\", s=150,linewidths = 5, zorder = 10, c=colors)"
   ]
  },
  {
   "cell_type": "markdown",
   "metadata": {
    "id": "SuhIbW-leyqr"
   },
   "source": [
    "## 4. Detección de anomalías"
   ]
  },
  {
   "cell_type": "markdown",
   "metadata": {
    "id": "V29BhuyofX42"
   },
   "source": [
    "**Se utiliza el algoritmo Isolation Forest**"
   ]
  },
  {
   "cell_type": "code",
   "execution_count": null,
   "metadata": {
    "id": "cf2nG98qvhvK"
   },
   "outputs": [],
   "source": [
    "X_train, X_test, y_train, y_test = train_test_split(X_df, Y_df, test_size=0.2)"
   ]
  },
  {
   "cell_type": "markdown",
   "metadata": {
    "id": "oLe3cyq5RDim"
   },
   "source": [
    "Escogemos el parámetro *contamination* a 0.15 ya que como hemos observado en el gráfico que nos mostraba los porcentajes de anomalías en las observaciones, este era del 15%."
   ]
  },
  {
   "cell_type": "code",
   "execution_count": null,
   "metadata": {
    "colab": {
     "base_uri": "https://localhost:8080/"
    },
    "id": "DL-jiM0EffT0",
    "outputId": "18ced882-7a34-4d4d-8f57-7e430c30d5af"
   },
   "outputs": [
    {
     "data": {
      "text/plain": [
       "IsolationForest(behaviour='deprecated', bootstrap=False, contamination=0.15,\n",
       "                max_features=1.0, max_samples='auto', n_estimators=2000,\n",
       "                n_jobs=-1, random_state=123, verbose=0, warm_start=False)"
      ]
     },
     "execution_count": 68,
     "metadata": {
      "tags": []
     },
     "output_type": "execute_result"
    }
   ],
   "source": [
    "modelo_isof = IsolationForest(\n",
    "                n_estimators  = 2000, # Número de árboles del modelo\n",
    "                max_samples   ='auto', # \n",
    "                contamination = 0.15, # Proporción de anomalías esperadas en los datos de entrenamiento\n",
    "                n_jobs        = -1,\n",
    "                random_state  = 123, # Semilla\n",
    "            )\n",
    "\n",
    "modelo_isof.fit(X=X_train)"
   ]
  },
  {
   "cell_type": "markdown",
   "metadata": {
    "id": "yYwL_GdcfgLb"
   },
   "source": [
    "**Se obtiene el score**"
   ]
  },
  {
   "cell_type": "code",
   "execution_count": null,
   "metadata": {
    "colab": {
     "base_uri": "https://localhost:8080/"
    },
    "id": "No79M2O5NsI_",
    "outputId": "967a1faf-22bd-4734-dc3e-82c35cd7e343"
   },
   "outputs": [
    {
     "data": {
      "text/plain": [
       "array([ 1,  1,  1, ..., -1,  1,  1])"
      ]
     },
     "execution_count": 69,
     "metadata": {
      "tags": []
     },
     "output_type": "execute_result"
    }
   ],
   "source": [
    "y_pred_train = modelo_isof.predict(X=X_train)\n",
    "y_pred_train # -1 anomalia, 1 no anomalía"
   ]
  },
  {
   "cell_type": "code",
   "execution_count": null,
   "metadata": {
    "colab": {
     "base_uri": "https://localhost:8080/"
    },
    "id": "uHvwmB1nO6ST",
    "outputId": "76f379f3-4357-4ddd-c2ea-1ca8d9276251"
   },
   "outputs": [
    {
     "data": {
      "text/plain": [
       "array([-0.37811158, -0.38702266, -0.49449698, ..., -0.55445546,\n",
       "       -0.36985967, -0.39488482])"
      ]
     },
     "execution_count": 70,
     "metadata": {
      "tags": []
     },
     "output_type": "execute_result"
    }
   ],
   "source": [
    "score_anomalia_train = modelo_isof.score_samples(X=X_train)\n",
    "score_anomalia_train # Cuanto más cercano a -1, mayor evidencia de anomalía. Valores entre -0,5 y 0 -> observaciones normales."
   ]
  },
  {
   "cell_type": "code",
   "execution_count": null,
   "metadata": {
    "colab": {
     "base_uri": "https://localhost:8080/"
    },
    "id": "JnSuFQRoSYkh",
    "outputId": "d507eded-bdcf-4243-f29e-046365cbf75a"
   },
   "outputs": [
    {
     "data": {
      "text/plain": [
       "-0.5912081639711256"
      ]
     },
     "execution_count": 71,
     "metadata": {
      "tags": []
     },
     "output_type": "execute_result"
    }
   ],
   "source": [
    "score_train = np.quantile(score_anomalia_train, q=0.1)\n",
    "score_train"
   ]
  },
  {
   "cell_type": "markdown",
   "metadata": {
    "id": "XjZ-Wd3cfo19"
   },
   "source": [
    "**Se hallan el máximo score y el mínimo score**"
   ]
  },
  {
   "cell_type": "code",
   "execution_count": null,
   "metadata": {
    "colab": {
     "base_uri": "https://localhost:8080/",
     "height": 355
    },
    "id": "-MvQavVRf5kP",
    "outputId": "73f3d471-44e0-4179-b49e-9726a4e568f0"
   },
   "outputs": [
    {
     "name": "stderr",
     "output_type": "stream",
     "text": [
      "/usr/local/lib/python3.7/dist-packages/seaborn/distributions.py:2557: FutureWarning: `distplot` is a deprecated function and will be removed in a future version. Please adapt your code to use either `displot` (a figure-level function with similar flexibility) or `kdeplot` (an axes-level function for kernel density plots).\n",
      "  warnings.warn(msg, FutureWarning)\n",
      "/usr/local/lib/python3.7/dist-packages/seaborn/distributions.py:2056: FutureWarning: The `axis` variable is no longer used and will be removed. Instead, assign variables directly to `x` or `y`.\n",
      "  warnings.warn(msg, FutureWarning)\n"
     ]
    },
    {
     "data": {
      "image/png": "[encoded data removed]",
      "text/plain": [
       "<Figure size 504x252 with 1 Axes>"
      ]
     },
     "metadata": {
      "needs_background": "light",
      "tags": []
     },
     "output_type": "display_data"
    }
   ],
   "source": [
    "# Distribución de los valores de anomalía para los datos de train\n",
    "fig, ax = plt.subplots(nrows=1, ncols=1, figsize=(7, 3.5))\n",
    "sns.distplot(\n",
    "    score_anomalia_train,\n",
    "    hist    = False,\n",
    "    rug     = True,\n",
    "    color   = 'blue',\n",
    "    kde_kws = {'shade': True, 'linewidth': 1},\n",
    "    ax      = ax\n",
    ")\n",
    "\n",
    "ax.axvline(score_train, c='red', linestyle='--', label='score')\n",
    "ax.set_title('Distribución de los valores de anomalía')\n",
    "ax.set_xlabel('Score de anomalía');"
   ]
  },
  {
   "cell_type": "code",
   "execution_count": null,
   "metadata": {
    "colab": {
     "base_uri": "https://localhost:8080/"
    },
    "id": "o4z-oPFsUwCq",
    "outputId": "f26de31b-8b5f-4f6f-d4f7-481e2cda25db"
   },
   "outputs": [
    {
     "data": {
      "text/plain": [
       "-0.36018171897933676"
      ]
     },
     "execution_count": 73,
     "metadata": {
      "tags": []
     },
     "output_type": "execute_result"
    }
   ],
   "source": [
    "np.max(score_anomalia_train) # Score máximo"
   ]
  },
  {
   "cell_type": "code",
   "execution_count": null,
   "metadata": {
    "colab": {
     "base_uri": "https://localhost:8080/"
    },
    "id": "Krr-7cCGVeQ2",
    "outputId": "bd93a391-9a99-4f9b-e487-066c4c988e96"
   },
   "outputs": [
    {
     "data": {
      "text/plain": [
       "-0.7628391334814787"
      ]
     },
     "execution_count": 74,
     "metadata": {
      "tags": []
     },
     "output_type": "execute_result"
    }
   ],
   "source": [
    "np.min(score_anomalia_train) # Score mínimo, esperado para mayor evidencia de anomalía"
   ]
  },
  {
   "cell_type": "markdown",
   "metadata": {
    "id": "NU6l-WNvf6tR"
   },
   "source": [
    "**Se calcula el score para los datos de test**"
   ]
  },
  {
   "cell_type": "markdown",
   "metadata": {
    "id": "lvNJIU9iVQif"
   },
   "source": [
    "Para ello se repiten los pasos anteriores, los seguidos para el score en train:"
   ]
  },
  {
   "cell_type": "code",
   "execution_count": null,
   "metadata": {
    "colab": {
     "base_uri": "https://localhost:8080/"
    },
    "id": "-dCWDikJgBri",
    "outputId": "22c77a03-7e37-427d-9ca1-e6b5cd3e793d"
   },
   "outputs": [
    {
     "data": {
      "text/plain": [
       "-0.5988680513182743"
      ]
     },
     "execution_count": 75,
     "metadata": {
      "tags": []
     },
     "output_type": "execute_result"
    }
   ],
   "source": [
    "y_pred_test = modelo_isof.predict(X=X_test)\n",
    "score_anomalia_test = modelo_isof.score_samples(X=X_test)\n",
    "score_test = np.quantile(score_anomalia_test, q=0.1)\n",
    "score_test"
   ]
  },
  {
   "cell_type": "code",
   "execution_count": null,
   "metadata": {
    "colab": {
     "base_uri": "https://localhost:8080/",
     "height": 355
    },
    "id": "khu_wvrgWG9a",
    "outputId": "5a79670b-f943-4a92-9b95-980d71d90e96"
   },
   "outputs": [
    {
     "name": "stderr",
     "output_type": "stream",
     "text": [
      "/usr/local/lib/python3.7/dist-packages/seaborn/distributions.py:2557: FutureWarning: `distplot` is a deprecated function and will be removed in a future version. Please adapt your code to use either `displot` (a figure-level function with similar flexibility) or `kdeplot` (an axes-level function for kernel density plots).\n",
      "  warnings.warn(msg, FutureWarning)\n",
      "/usr/local/lib/python3.7/dist-packages/seaborn/distributions.py:2056: FutureWarning: The `axis` variable is no longer used and will be removed. Instead, assign variables directly to `x` or `y`.\n",
      "  warnings.warn(msg, FutureWarning)\n"
     ]
    },
    {
     "data": {
      "image/png": "[encoded data removed]",
      "text/plain": [
       "<Figure size 504x252 with 1 Axes>"
      ]
     },
     "metadata": {
      "needs_background": "light",
      "tags": []
     },
     "output_type": "display_data"
    }
   ],
   "source": [
    "# Distribución de los valores de anomalía para los datos de train\n",
    "fig, ax = plt.subplots(nrows=1, ncols=1, figsize=(7, 3.5))\n",
    "sns.distplot(\n",
    "    score_anomalia_test,\n",
    "    hist    = False,\n",
    "    rug     = True,\n",
    "    color   = 'blue',\n",
    "    kde_kws = {'shade': True, 'linewidth': 1},\n",
    "    ax      = ax\n",
    ")\n",
    "\n",
    "ax.axvline(score_test, c='red', linestyle='--', label='score')\n",
    "ax.set_title('Distribución de los valores de anomalía')\n",
    "ax.set_xlabel('Score de anomalía');"
   ]
  },
  {
   "cell_type": "code",
   "execution_count": null,
   "metadata": {
    "colab": {
     "base_uri": "https://localhost:8080/"
    },
    "id": "3d4w3gzOWd9v",
    "outputId": "b98e5d8f-b5d2-4cdf-9c11-ee1874eda351"
   },
   "outputs": [
    {
     "data": {
      "text/plain": [
       "-0.36061840866820355"
      ]
     },
     "execution_count": 77,
     "metadata": {
      "tags": []
     },
     "output_type": "execute_result"
    }
   ],
   "source": [
    "np.max(score_anomalia_test) # Score máximo"
   ]
  },
  {
   "cell_type": "code",
   "execution_count": null,
   "metadata": {
    "colab": {
     "base_uri": "https://localhost:8080/"
    },
    "id": "wil8NCY8W7mx",
    "outputId": "4f6b853f-956f-4583-dd3c-feb66ecab955"
   },
   "outputs": [
    {
     "data": {
      "text/plain": [
       "-0.7354329542186919"
      ]
     },
     "execution_count": 78,
     "metadata": {
      "tags": []
     },
     "output_type": "execute_result"
    }
   ],
   "source": [
    "np.min(score_anomalia_test) # Score mínimo"
   ]
  },
  {
   "cell_type": "markdown",
   "metadata": {
    "id": "aRLgdjvOZFPt"
   },
   "source": [
    "**Se obtiene la matriz de confusión en los datos de train y en los datos de test**"
   ]
  },
  {
   "cell_type": "markdown",
   "metadata": {
    "id": "juniuY_mclbA"
   },
   "source": [
    "Resultados en los datos de train:"
   ]
  },
  {
   "cell_type": "code",
   "execution_count": null,
   "metadata": {
    "id": "BZYHyS10Y-LT"
   },
   "outputs": [],
   "source": [
    "df_resultados_train = pd.DataFrame({\n",
    "                    'score'    : score_anomalia_train,\n",
    "                    'anomalia' : y_train\n",
    "\n",
    "                })"
   ]
  },
  {
   "cell_type": "code",
   "execution_count": null,
   "metadata": {
    "colab": {
     "base_uri": "https://localhost:8080/",
     "height": 136
    },
    "id": "1-w2uNAbcyyx",
    "outputId": "8a982e09-1d0a-483c-e02f-c0d4b48f47ad"
   },
   "outputs": [
    {
     "data": {
      "text/html": [
       "<div>\n",
       "<style scoped>\n",
       "    .dataframe tbody tr th:only-of-type {\n",
       "        vertical-align: middle;\n",
       "    }\n",
       "\n",
       "    .dataframe tbody tr th {\n",
       "        vertical-align: top;\n",
       "    }\n",
       "\n",
       "    .dataframe thead th {\n",
       "        text-align: right;\n",
       "    }\n",
       "</style>\n",
       "<table border=\"1\" class=\"dataframe\">\n",
       "  <thead>\n",
       "    <tr style=\"text-align: right;\">\n",
       "      <th>clasificacion</th>\n",
       "      <th>0</th>\n",
       "      <th>1</th>\n",
       "    </tr>\n",
       "    <tr>\n",
       "      <th>anomalia</th>\n",
       "      <th></th>\n",
       "      <th></th>\n",
       "    </tr>\n",
       "  </thead>\n",
       "  <tbody>\n",
       "    <tr>\n",
       "      <th>0</th>\n",
       "      <td>2041</td>\n",
       "      <td>66</td>\n",
       "    </tr>\n",
       "    <tr>\n",
       "      <th>1</th>\n",
       "      <td>50</td>\n",
       "      <td>303</td>\n",
       "    </tr>\n",
       "  </tbody>\n",
       "</table>\n",
       "</div>"
      ],
      "text/plain": [
       "clasificacion     0    1\n",
       "anomalia                \n",
       "0              2041   66\n",
       "1                50  303"
      ]
     },
     "execution_count": 80,
     "metadata": {
      "tags": []
     },
     "output_type": "execute_result"
    }
   ],
   "source": [
    "\n",
    "df_resultados_train['clasificacion'] = np.where(y_pred_train < 0, 1, 0)\n",
    "\n",
    "pd.crosstab(\n",
    "    df_resultados_train.anomalia,\n",
    "    df_resultados_train.clasificacion\n",
    ")"
   ]
  },
  {
   "cell_type": "code",
   "execution_count": null,
   "metadata": {
    "colab": {
     "base_uri": "https://localhost:8080/"
    },
    "id": "xjnd6T56kzQV",
    "outputId": "4b68cf00-42dd-42c4-f85c-315355edf16f"
   },
   "outputs": [
    {
     "name": "stdout",
     "output_type": "stream",
     "text": [
      "Accuracy Score: 0.9528455284552846\n",
      "              precision    recall  f1-score   support\n",
      "\n",
      "           0       0.98      0.97      0.97      2107\n",
      "           1       0.82      0.86      0.84       353\n",
      "\n",
      "    accuracy                           0.95      2460\n",
      "   macro avg       0.90      0.91      0.91      2460\n",
      "weighted avg       0.95      0.95      0.95      2460\n",
      "\n",
      "0.9135163914699551\n"
     ]
    }
   ],
   "source": [
    "print('Accuracy Score:', metrics.accuracy_score(df_resultados_train.anomalia,df_resultados_train.clasificacion))\n",
    "print(metrics.classification_report(df_resultados_train.anomalia,df_resultados_train.clasificacion)) # Reporte de clasificación\n",
    "print(roc_auc_score(df_resultados_train.anomalia, df_resultados_train.clasificacion))"
   ]
  },
  {
   "cell_type": "markdown",
   "metadata": {
    "id": "K-McApFletW0"
   },
   "source": [
    "Resultados en los datos de test:"
   ]
  },
  {
   "cell_type": "code",
   "execution_count": null,
   "metadata": {
    "id": "wwp2qwdBe1PO"
   },
   "outputs": [],
   "source": [
    "df_resultados_test = pd.DataFrame({\n",
    "                    'score'    : score_anomalia_test,\n",
    "                    'anomalia' : y_test\n",
    "                })"
   ]
  },
  {
   "cell_type": "code",
   "execution_count": null,
   "metadata": {
    "colab": {
     "base_uri": "https://localhost:8080/",
     "height": 136
    },
    "id": "fa-HeyTue-4t",
    "outputId": "b61d7da6-0f38-41a6-feed-850d116fd49e"
   },
   "outputs": [
    {
     "data": {
      "text/html": [
       "<div>\n",
       "<style scoped>\n",
       "    .dataframe tbody tr th:only-of-type {\n",
       "        vertical-align: middle;\n",
       "    }\n",
       "\n",
       "    .dataframe tbody tr th {\n",
       "        vertical-align: top;\n",
       "    }\n",
       "\n",
       "    .dataframe thead th {\n",
       "        text-align: right;\n",
       "    }\n",
       "</style>\n",
       "<table border=\"1\" class=\"dataframe\">\n",
       "  <thead>\n",
       "    <tr style=\"text-align: right;\">\n",
       "      <th>clasificacion</th>\n",
       "      <th>0</th>\n",
       "      <th>1</th>\n",
       "    </tr>\n",
       "    <tr>\n",
       "      <th>anomalia</th>\n",
       "      <th></th>\n",
       "      <th></th>\n",
       "    </tr>\n",
       "  </thead>\n",
       "  <tbody>\n",
       "    <tr>\n",
       "      <th>0</th>\n",
       "      <td>509</td>\n",
       "      <td>11</td>\n",
       "    </tr>\n",
       "    <tr>\n",
       "      <th>1</th>\n",
       "      <td>8</td>\n",
       "      <td>87</td>\n",
       "    </tr>\n",
       "  </tbody>\n",
       "</table>\n",
       "</div>"
      ],
      "text/plain": [
       "clasificacion    0   1\n",
       "anomalia              \n",
       "0              509  11\n",
       "1                8  87"
      ]
     },
     "execution_count": 83,
     "metadata": {
      "tags": []
     },
     "output_type": "execute_result"
    }
   ],
   "source": [
    "\n",
    "df_resultados_test['clasificacion'] = np.where(y_pred_test < 0, 1, 0)\n",
    "\n",
    "pd.crosstab(\n",
    "    df_resultados_test.anomalia,\n",
    "    df_resultados_test.clasificacion\n",
    ")"
   ]
  },
  {
   "cell_type": "code",
   "execution_count": null,
   "metadata": {
    "colab": {
     "base_uri": "https://localhost:8080/"
    },
    "id": "5MuGgJNepdSb",
    "outputId": "77585435-6461-41ae-f322-ecd7c4e5b17b"
   },
   "outputs": [
    {
     "name": "stdout",
     "output_type": "stream",
     "text": [
      "Accuracy Score: 0.9691056910569106\n",
      "              precision    recall  f1-score   support\n",
      "\n",
      "           0       0.98      0.98      0.98       520\n",
      "           1       0.89      0.92      0.90        95\n",
      "\n",
      "    accuracy                           0.97       615\n",
      "   macro avg       0.94      0.95      0.94       615\n",
      "weighted avg       0.97      0.97      0.97       615\n",
      "\n"
     ]
    }
   ],
   "source": [
    "print('Accuracy Score:', metrics.accuracy_score(df_resultados_test.anomalia,df_resultados_test.clasificacion))\n",
    "print( metrics.classification_report(df_resultados_test.anomalia,df_resultados_test.clasificacion)) # Reporte de clasificación"
   ]
  },
  {
   "cell_type": "markdown",
   "metadata": {
    "id": "-DuSQabiPvch"
   },
   "source": [
    "Como podemos observar los resultados son bastante buenos ya que tenemos un pequeño porcentaje de falsos negativos (solo 8 en comparación con 95 que son el total de anomalías). Por otro lado, tenemos solo 11 clasificados como falsos positivos. \n"
   ]
  },
  {
   "cell_type": "markdown",
   "metadata": {
    "id": "V20S2HfngKHb"
   },
   "source": [
    "## 5. Comentarios sobre los resultados obtenidos en cluster y en anomalías"
   ]
  },
  {
   "cell_type": "markdown",
   "metadata": {
    "id": "RAJFi10MRX45"
   },
   "source": [
    "Aunque ambos modelos muestran unos resultados satisfactorios, ya que el accuracy es muy similar, podemos concluir que el de isolation forest sería mucho más útil. En este caso, obtenemos un número bastante menor de falsos negativos con lo cual es un buen resultado ya que buscamos que no pase por alto las anomalías aunque eso sea a costa de clasificar más falsos positivos. Con esto, estamos asumiendo que el coste de una anomalía no detectada es meyor que el del dato normal marcado como anomalía. "
   ]
  },
  {
   "cell_type": "markdown",
   "metadata": {
    "id": "9mUfnwD1UTUc"
   },
   "source": [
    "## 6. Referencias"
   ]
  },
  {
   "cell_type": "markdown",
   "metadata": {
    "id": "5VgrZnODUUG_"
   },
   "source": [
    "Amat.J, (2020). Detección de anomalías con Isolation Forest y python. https://www.cienciadedatos.net/documentos/py22-deteccion-anomalias-isolation-forest-python.html"
   ]
  }
 ],
 "metadata": {
  "colab": {
   "collapsed_sections": [],
   "name": "AA_actividad_3.ipynb",
   "provenance": []
  },
  "kernelspec": {
   "display_name": "Python 3",
   "language": "python",
   "name": "python3"
  },
  "language_info": {
   "codemirror_mode": {
    "name": "ipython",
    "version": 3
   },
   "file_extension": ".py",
   "mimetype": "text/x-python",
   "name": "python",
   "nbconvert_exporter": "python",
   "pygments_lexer": "ipython3",
   "version": "3.8.8"
  }
 },
 "nbformat": 4,
 "nbformat_minor": 1
}
